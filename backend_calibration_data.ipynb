{
 "cells": [
  {
   "cell_type": "code",
   "execution_count": 1,
   "metadata": {},
   "outputs": [],
   "source": [
    "import pickle\n",
    "import numpy as np\n",
    "# Load the noise model\n",
    "with open('./noise_model.pkl', 'rb') as f:\n",
    "    noise_model = pickle.load(f)\n",
    "# Load the noise model\n",
    "with open('./backend.pkl', 'rb') as f:\n",
    "    backend = pickle.load(f)\n"
   ]
  },
  {
   "cell_type": "code",
   "execution_count": 2,
   "metadata": {},
   "outputs": [],
   "source": [
    "config = backend.configuration()\n",
    "props = backend.properties()\n"
   ]
  },
  {
   "cell_type": "code",
   "execution_count": 3,
   "metadata": {},
   "outputs": [
    {
     "data": {
      "text/plain": [
       "'ibm_hanoi'"
      ]
     },
     "execution_count": 3,
     "metadata": {},
     "output_type": "execute_result"
    }
   ],
   "source": [
    "backend.configuration().backend_name"
   ]
  },
  {
   "cell_type": "code",
   "execution_count": 4,
   "metadata": {},
   "outputs": [
    {
     "data": {
      "text/plain": [
       "27"
      ]
     },
     "execution_count": 4,
     "metadata": {},
     "output_type": "execute_result"
    }
   ],
   "source": [
    "backend.configuration().num_qubits"
   ]
  },
  {
   "cell_type": "code",
   "execution_count": 5,
   "metadata": {
    "scrolled": true
   },
   "outputs": [
    {
     "data": {
      "text/plain": [
       "{'[19, 16]': 0.00605987253536619,\n",
       " '[16, 19]': 0.00605987253536619,\n",
       " '[9, 8]': 0.008558500104194539,\n",
       " '[8, 9]': 0.008558500104194539,\n",
       " '[21, 23]': 0.008885674743491306,\n",
       " '[23, 21]': 0.008885674743491306,\n",
       " '[6, 7]': 0.004568595518943425,\n",
       " '[7, 6]': 0.004568595518943425,\n",
       " '[19, 22]': 0.00750361629688967,\n",
       " '[22, 19]': 0.00750361629688967,\n",
       " '[13, 12]': 0.00645447331980345,\n",
       " '[12, 13]': 0.00645447331980345,\n",
       " '[14, 13]': 0.005441391140078522,\n",
       " '[13, 14]': 0.005441391140078522,\n",
       " '[14, 11]': 0.008448193894850325,\n",
       " '[11, 14]': 0.008448193894850325,\n",
       " '[10, 12]': 0.005880951357093073,\n",
       " '[12, 10]': 0.005880951357093073,\n",
       " '[25, 22]': 0.008160933007994892,\n",
       " '[22, 25]': 0.008160933007994892,\n",
       " '[14, 16]': 0.019164921708157062,\n",
       " '[16, 14]': 0.019164921708157062,\n",
       " '[17, 18]': 0.019004270567231613,\n",
       " '[18, 17]': 0.019004270567231613,\n",
       " '[0, 1]': 0.007710848659308767,\n",
       " '[1, 0]': 0.007710848659308767,\n",
       " '[15, 12]': 0.008951975417339025,\n",
       " '[12, 15]': 0.008951975417339025,\n",
       " '[24, 23]': 0.00844453830599512,\n",
       " '[23, 24]': 0.00844453830599512,\n",
       " '[18, 15]': 0.031094654648900738,\n",
       " '[15, 18]': 0.031094654648900738,\n",
       " '[24, 25]': 0.019641149740368985,\n",
       " '[25, 24]': 0.019641149740368985,\n",
       " '[26, 25]': 0.00541173270393272,\n",
       " '[25, 26]': 0.00541173270393272,\n",
       " '[4, 7]': 0.017587786948143558,\n",
       " '[7, 4]': 0.017587786948143558,\n",
       " '[5, 3]': 0.005620752031978676,\n",
       " '[3, 5]': 0.005620752031978676,\n",
       " '[7, 10]': 0.004102628981633716,\n",
       " '[10, 7]': 0.004102628981633716,\n",
       " '[2, 3]': 0.009976478482897289,\n",
       " '[3, 2]': 0.009976478482897289,\n",
       " '[1, 4]': 0.006890244021486552,\n",
       " '[4, 1]': 0.006890244021486552,\n",
       " '[18, 21]': 0.0054921138398250635,\n",
       " '[21, 18]': 0.0054921138398250635,\n",
       " '[2, 1]': 0.0029869416591176423,\n",
       " '[1, 2]': 0.0029869416591176423,\n",
       " '[11, 8]': 0.006365589172682484,\n",
       " '[8, 11]': 0.006365589172682484,\n",
       " '[20, 19]': 1,\n",
       " '[8, 5]': 1,\n",
       " '[19, 20]': 1,\n",
       " '[5, 8]': 1}"
      ]
     },
     "execution_count": 5,
     "metadata": {},
     "output_type": "execute_result"
    }
   ],
   "source": [
    "# Initialize a list to store the CNOT errors\n",
    "cnot_errors = {}\n",
    "\n",
    "# Loop over all the gates\n",
    "for gate in props.gates:\n",
    "    # Check if the gate is a CNOT gate\n",
    "    if gate.gate == 'cx':\n",
    "        # Get the gate error for the CNOT gate\n",
    "        cnot_error = props.gate_error(gate.gate, gate.qubits)\n",
    "        # Append the error to the list\n",
    "        #print(gate.qubits)\n",
    "        cnot_errors[str(gate.qubits)]=cnot_error\n",
    "cnot_errors"
   ]
  },
  {
   "cell_type": "code",
   "execution_count": 7,
   "metadata": {},
   "outputs": [
    {
     "name": "stdout",
     "output_type": "stream",
     "text": [
      "Median CNOT error: 0.007935890833651829\n",
      "CNOT error range: 0.0029869416591176423 - 1.0\n"
     ]
    }
   ],
   "source": [
    "# Initialize a list to store the CNOT errors\n",
    "cnot_errors = []\n",
    "\n",
    "# Loop over all the gates\n",
    "for gate in props.gates:\n",
    "    # Check if the gate is a CNOT gate\n",
    "    if gate.gate == 'cx':\n",
    "        # Get the gate error for the CNOT gate\n",
    "        cnot_error = props.gate_error(gate.gate, gate.qubits)\n",
    "        # Append the error to the list\n",
    "        cnot_errors.append(cnot_error)\n",
    "\n",
    "# Convert the list to a numpy array\n",
    "cnot_errors = np.array(cnot_errors)\n",
    "\n",
    "# Calculate the median CNOT error\n",
    "median_cnot_error = np.median(cnot_errors)\n",
    "\n",
    "# Print the median CNOT error\n",
    "print(\"Median CNOT error:\", median_cnot_error)\n",
    "\n",
    "# Calculate the minimum and maximum CNOT error\n",
    "min_cnot_error = np.min(cnot_errors)\n",
    "max_cnot_error = np.max(cnot_errors)\n",
    "\n",
    "# Print the CNOT error range\n",
    "print(\"CNOT error range:\", min_cnot_error, \"-\", max_cnot_error)\n",
    "\n"
   ]
  },
  {
   "cell_type": "code",
   "execution_count": 8,
   "metadata": {},
   "outputs": [
    {
     "name": "stdout",
     "output_type": "stream",
     "text": [
      "Median readout error: 0.01200000000000001\n",
      "Readout error range: 0.005600000000000049 - 0.09689999999999999\n"
     ]
    }
   ],
   "source": [
    "# Initialize a list to store the readout errors\n",
    "readout_errors = []\n",
    "\n",
    "# Loop over all the qubits\n",
    "for qubit in range(backend.configuration().num_qubits):\n",
    "    # Get the readout error for the qubit\n",
    "    readout_error = props.readout_error(qubit)\n",
    "    # Append the error to the list\n",
    "    readout_errors.append(readout_error)\n",
    "# Calculate the median CNOT error\n",
    "median_readout_error = np.median(readout_errors)\n",
    "\n",
    "# Print the median CNOT error\n",
    "print(\"Median readout error:\", median_readout_error)\n",
    "# Find the minimum and maximum readout errors\n",
    "min_error = min(readout_errors)\n",
    "max_error = max(readout_errors)\n",
    "\n",
    "# Print or store the readout error range\n",
    "print('Readout error range:', min_error, '-', max_error)"
   ]
  },
  {
   "cell_type": "code",
   "execution_count": 9,
   "metadata": {},
   "outputs": [
    {
     "name": "stdout",
     "output_type": "stream",
     "text": [
      "Median gate time: 3.4666666666666665e-07\n",
      "gate time range: 1.8133333333333332e-07 - 7.288888888888888e-07\n"
     ]
    }
   ],
   "source": [
    "# Initialize a list to store the CNOT errors\n",
    "cnot_lengths = []\n",
    "\n",
    "# Loop over all the gates\n",
    "for gate in props.gates:\n",
    "    # Check if the gate is a CNOT gate\n",
    "    if gate.gate == 'cx':\n",
    "        # Get the gate error for the CNOT gate\n",
    "        cnot_length = props.gate_length(gate.gate, gate.qubits)\n",
    "        # Append the error to the list\n",
    "        cnot_lengths.append(cnot_length)\n",
    "\n",
    "# Convert the list to a numpy array\n",
    "cnot_lengths = np.array(cnot_lengths)\n",
    "\n",
    "# Calculate the median CNOT error\n",
    "median_cnot_length = np.median(cnot_lengths)\n",
    "\n",
    "# Print the median CNOT error\n",
    "print(\"Median gate time:\", median_cnot_length)\n",
    "\n",
    "# Calculate the minimum and maximum CNOT error\n",
    "min_cnot_length = np.min(cnot_lengths)\n",
    "max_cnot_length= np.max(cnot_lengths)\n",
    "\n",
    "# Print the CNOT error range\n",
    "print(\"gate time range:\", min_cnot_length, \"-\", max_cnot_length)\n",
    "\n"
   ]
  },
  {
   "cell_type": "code",
   "execution_count": 13,
   "metadata": {},
   "outputs": [
    {
     "name": "stdout",
     "output_type": "stream",
     "text": [
      "median_t1_times: 0.00012038472808512017\n",
      "t1_times range: 6.992582917322797e-05 - 0.0002107442612939136\n"
     ]
    }
   ],
   "source": [
    "# Initialize a list to store the readout errors\n",
    "t1_times = []\n",
    "\n",
    "# Loop over all the qubits\n",
    "for qubit in range(backend.configuration().num_qubits):\n",
    "    # Get the readout error for the qubit\n",
    "    t1_time = props.t1(qubit)\n",
    "    # Append the error to the list\n",
    "    t1_times.append(t1_time)\n",
    "    \n",
    "# Calculate the median CNOT error\n",
    "median_t1_times  = np.median(t1_times )\n",
    "\n",
    "# Print the median CNOT error\n",
    "print(\"median_t1_times:\", median_t1_times)\n",
    "# Find the minimum and maximum readout errors\n",
    "min_t1_times = min(t1_times)\n",
    "max_t1_times = max(t1_times)\n",
    "\n",
    "# Print or store the readout error range\n",
    "print('t1_times range:', min_t1_times, '-', max_t1_times)"
   ]
  },
  {
   "cell_type": "code",
   "execution_count": 14,
   "metadata": {},
   "outputs": [
    {
     "name": "stdout",
     "output_type": "stream",
     "text": [
      "median_t2_times: 0.00013865188133386927\n",
      "t2_times range: 1.353027235251335e-05 - 0.0004652181023539073\n"
     ]
    }
   ],
   "source": [
    "# Initialize a list to store the readout errors\n",
    "t2_times = []\n",
    "\n",
    "# Loop over all the qubits\n",
    "for qubit in range(backend.configuration().num_qubits):\n",
    "    # Get the readout error for the qubit\n",
    "    t2_time = props.t2(qubit)\n",
    "    # Append the error to the list\n",
    "    t2_times.append(t2_time)\n",
    "    \n",
    "# Calculate the median CNOT error\n",
    "median_t2_times  = np.median(t2_times )\n",
    "\n",
    "# Print the median CNOT error\n",
    "print(\"median_t2_times:\", median_t2_times)\n",
    "# Find the minimum and maximum readout errors\n",
    "min_t2_times = min(t2_times)\n",
    "max_t2_times = max(t2_times)\n",
    "\n",
    "# Print or store the readout error range\n",
    "print('t2_times range:', min_t2_times, '-', max_t2_times)"
   ]
  },
  {
   "cell_type": "code",
   "execution_count": null,
   "metadata": {},
   "outputs": [],
   "source": []
  }
 ],
 "metadata": {
  "kernelspec": {
   "display_name": "retestcutcircuit",
   "language": "python",
   "name": "retestcutcircuit"
  },
  "language_info": {
   "codemirror_mode": {
    "name": "ipython",
    "version": 3
   },
   "file_extension": ".py",
   "mimetype": "text/x-python",
   "name": "python",
   "nbconvert_exporter": "python",
   "pygments_lexer": "ipython3",
   "version": "3.9.12"
  }
 },
 "nbformat": 4,
 "nbformat_minor": 2
}
